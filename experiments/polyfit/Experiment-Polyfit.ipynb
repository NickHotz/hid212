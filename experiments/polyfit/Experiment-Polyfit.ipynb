{
 "cells": [
  {
   "cell_type": "code",
   "execution_count": 22,
   "metadata": {},
   "outputs": [],
   "source": [
    "import warnings\n",
    "warnings.filterwarnings('ignore')\n",
    "import matplotlib\n",
    "matplotlib.use('TkAgg')\n"
   ]
  },
  {
   "cell_type": "code",
   "execution_count": 29,
   "metadata": {},
   "outputs": [
    {
     "data": {
      "image/png": "[encoded data removed]",
      "text/plain": [
       "<matplotlib.figure.Figure at 0x7f116839e910>"
      ]
     },
     "metadata": {},
     "output_type": "display_data"
    }
   ],
   "source": [
    "%matplotlib inline\n",
    "\n",
    "#import the required libraries\n",
    "import numpy as np\n",
    "import matplotlib.pyplot as plt\n",
    "\n",
    "\n",
    "n = 100\n",
    "\n",
    "#taking 100 random numbers from a normal distribution as a numpy array\n",
    "x = np.random.randn(n)\n",
    "\n",
    "#taking the multiplication of random numbers from normal distribution and the elements of x\n",
    "y = x * np.random.randn(n)\n",
    "\n",
    "#Using subplot() to return matplotlib figure object and axes objects.\n",
    "figure,ax = plt.subplots()\n",
    "\n",
    "#Fit a polynomial of degree 1 with respect to the values of x and y arrays \n",
    "#and returns an array of coefficients of the polynomial\n",
    "fit = np.polyfit(x,y,deg=1)\n",
    "\n",
    "#Plotting a line with respect to the coefficient returned(for equation of degree 1 -> ax+b)\n",
    "ax.plot(x,fit[0]*x+fit[1], color = 'blue')\n",
    "\n",
    "#Generating a scatter plot for x and y arrays\n",
    "ax.scatter(x,y)\n",
    "\n",
    "# Providing X and Y axis lables to the graph\n",
    "plt.xlabel(\"X\")\n",
    "plt.ylabel(\"Y\")\n",
    "\n",
    "#Provigding Name to the graph\n",
    "ax.set_title('Plot1')\n",
    "\n",
    "#Saving the plot\n",
    "plt.savefig('Plot1.png', dpi=300)\n",
    "\n",
    "#Display the plot\n",
    "figure.show()"
   ]
  },
  {
   "cell_type": "code",
   "execution_count": 30,
   "metadata": {},
   "outputs": [
    {
     "data": {
      "image/png": "[encoded data removed]",
      "text/plain": [
       "<matplotlib.figure.Figure at 0x7f1168d60c10>"
      ]
     },
     "metadata": {},
     "output_type": "display_data"
    }
   ],
   "source": [
    "n = 100\n",
    "\n",
    "#taking 100 random numbers from a normal distribution as a numpy array\n",
    "x = np.random.randn(n)\n",
    "\n",
    "#taking the multiplication of random numbers from normal distribution and the elements of x\n",
    "y = x * np.random.randn(n)\n",
    "\n",
    "#Using subplot() to return matplotlib figure object and axes objects.\n",
    "figure,ax = plt.subplots()\n",
    "\n",
    "#Fit a polynomial of degree 2 with respect to the values of x and y arrays \n",
    "#and returns an array of coefficients of the polynomial\n",
    "fit = np.polyfit(x,y,deg=2)\n",
    "\n",
    "#Plotting a line with respect to the coefficient returned(for equation of degree 1 -> ax^2 + bx + c)\n",
    "ax.plot(x,fit[0]*x+fit[1], color = 'red')\n",
    "\n",
    "#Generating a scatter plot for x and y arrays\n",
    "ax.scatter(x,y)\n",
    "\n",
    "# Providing X and Y axis lables to the graph\n",
    "plt.xlabel(\"X\")\n",
    "plt.ylabel(\"Y\")\n",
    "\n",
    "#Provigding Name to the graph\n",
    "ax.set_title('Plot2')\n",
    "\n",
    "#Saving the plot\n",
    "plt.savefig('Plot2.png', dpi=300)\n",
    "\n",
    "#Display the plot\n",
    "figure.show()"
   ]
  },
  {
   "cell_type": "code",
   "execution_count": 32,
   "metadata": {},
   "outputs": [
    {
     "data": {
      "image/png": "[encoded data removed]",
      "text/plain": [
       "<matplotlib.figure.Figure at 0x7f1168db3d50>"
      ]
     },
     "metadata": {},
     "output_type": "display_data"
    }
   ],
   "source": [
    "n = 100\n",
    "\n",
    "#taking 100 random numbers from a normal distribution as a numpy array\n",
    "x = np.random.randn(n)\n",
    "\n",
    "#taking the multiplication of random numbers from normal distribution and the elements of x\n",
    "y = x * np.random.randn(n)\n",
    "\n",
    "#Using subplot() to return matplotlib figure object and axes objects.\n",
    "figure,ax = plt.subplots()\n",
    "\n",
    "#Fit a polynomial of degree 1 with respect to the values of x and y arrays \n",
    "#and returns an array of coefficients of the polynomial\n",
    "fit = np.polyfit(x,y,deg=1)\n",
    "\n",
    "#Plotting a line with respect to the coefficient returned(for equation of degree 1 -> ax+b)\n",
    "ax.plot(x,fit[0]*x+fit[1], color = 'blue')\n",
    "\n",
    "#Generating a scatter plot for x and y arrays\n",
    "ax.scatter(x,y)\n",
    "\n",
    "#Fit a polynomial of degree 2 with respect to the values of x and y arrays \n",
    "#and returns an array of coefficients of the polynomial\n",
    "fit = np.polyfit(x,y,deg=2)\n",
    "\n",
    "#Plotting a line with respect to the coefficient returned(for equation of degree 1 -> ax^2 + bx + c)\n",
    "ax.plot(x,fit[0]*x+fit[1], color = 'red')\n",
    "\n",
    "#Generating a scatter plot for x and y arrays\n",
    "ax.scatter(x,y)\n",
    "\n",
    "# Providing X and Y axis lables to the graph\n",
    "plt.xlabel(\"X\")\n",
    "plt.ylabel(\"Y\")\n",
    "\n",
    "#Provigding Name to the graph\n",
    "ax.set_title('Plot3')\n",
    "\n",
    "#Saving the plot\n",
    "plt.savefig('Plot3.png', dpi=300)\n",
    "\n",
    "#Display the plot\n",
    "figure.show()"
   ]
  },
  {
   "cell_type": "code",
   "execution_count": null,
   "metadata": {},
   "outputs": [],
   "source": []
  }
 ],
 "metadata": {
  "kernelspec": {
   "display_name": "Python 2",
   "language": "python",
   "name": "python2"
  },
  "language_info": {
   "codemirror_mode": {
    "name": "ipython",
    "version": 2
   },
   "file_extension": ".py",
   "mimetype": "text/x-python",
   "name": "python",
   "nbconvert_exporter": "python",
   "pygments_lexer": "ipython2",
   "version": "2.7.12"
  }
 },
 "nbformat": 4,
 "nbformat_minor": 2
}
